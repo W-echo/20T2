{
 "cells": [
  {
   "cell_type": "code",
   "execution_count": 1,
   "metadata": {},
   "outputs": [],
   "source": [
    "import keras\n",
    "from keras.models import load_model\n",
    "import numpy as np\n",
    "import os\n",
    "import sys\n",
    "import cv2\n",
    "from keras.utils import Progbar\n",
    "from matplotlib import pyplot as plt\n",
    "from skimage.io import imread, imshow, imread_collection, concatenate_images\n",
    "from skimage.transform import resize\n",
    "\n",
    "smooth = 1."
   ]
  },
  {
   "cell_type": "code",
   "execution_count": 2,
   "metadata": {},
   "outputs": [],
   "source": [
    "# Metric function\n",
    "def dice_coef(y_true, y_pred):\n",
    "    y_true_f = K.flatten(y_true)\n",
    "    y_pred_f = K.flatten(y_pred)\n",
    "    intersection = K.sum(y_true_f * y_pred_f)\n",
    "    return (2. * intersection + smooth) / (K.sum(y_true_f) + K.sum(y_pred_f) + smooth)"
   ]
  },
  {
   "cell_type": "code",
   "execution_count": 3,
   "metadata": {},
   "outputs": [],
   "source": [
    "new_model = load_model('U-net_v2.3.h5', custom_objects={'dice_coef': dice_coef})"
   ]
  },
  {
   "cell_type": "code",
   "execution_count": 4,
   "metadata": {},
   "outputs": [],
   "source": [
    "# Data Path\n",
    "TEST_PATH = 'DIC-C2DH-HeLa1/Sequence 1/'\n",
    "test_ids = next(os.walk(TEST_PATH))[2]"
   ]
  },
  {
   "cell_type": "code",
   "execution_count": 5,
   "metadata": {},
   "outputs": [],
   "source": [
    "# Function to read test images and return as numpy array\n",
    "def read_test_data(IMG_WIDTH=256,IMG_HEIGHT=256,IMG_CHANNELS=3):\n",
    "    X_test = np.zeros((len(test_ids), IMG_HEIGHT, IMG_WIDTH, IMG_CHANNELS), dtype=np.uint8)\n",
    "    sizes_test = []\n",
    "    print('\\nGetting and resizing test images ... ')\n",
    "    sys.stdout.flush()\n",
    "    b = Progbar(len(test_ids))\n",
    "    for i, id_ in enumerate(test_ids):\n",
    "        path = TEST_PATH + id_\n",
    "        img = cv2.imread(path)\n",
    "#         img = cv2.medianBlur(img, 3)\n",
    "#         kernel = cv2.getStructuringElement(cv2.MORPH_RECT, (9, 9))\n",
    "#         img = cv2.morphologyEx(img, cv2.MORPH_TOPHAT, kernel) # 同上\n",
    "#         img = cv2.convertScaleAbs(img,alpha=8,beta=0)\n",
    "#         print(np.max(img))\n",
    "#         ret, img = cv.threshold(img, 190, 255, cv.THRESH_BINARY)\n",
    "        sizes_test.append([img.shape[0], img.shape[1]])\n",
    "        img = resize(img, (IMG_HEIGHT, IMG_WIDTH), mode='constant', preserve_range=True)\n",
    "        X_test[i] = img\n",
    "        b.update(i)\n",
    "#         break\n",
    "    return X_test,sizes_test"
   ]
  },
  {
   "cell_type": "code",
   "execution_count": 6,
   "metadata": {},
   "outputs": [],
   "source": [
    "def overlap(point1,point2):\n",
    "    x1, y1, w1, h1 = point1\n",
    "    x2, y2, w2, h2 = point2\n",
    "    endx = max(x1+w1,x2+w2)\n",
    "    startx = min(x1,x2)\n",
    "    w = w1+w2-(endx-startx)\n",
    "    endy = max(y1+h1,y2+h2)\n",
    "    starty = min(y1,y2)\n",
    "    h = h1+h2-(endy-starty)\n",
    "    if w<=0 or h<=0 or(x1>x2 and y1>y2 and w1>w2 and h1>h2):\n",
    "        return False\n",
    "    else:\n",
    "        area = w*h  # 重叠面积\n",
    "        area1 = w1*h1   # 分裂前面积\n",
    "        area2 = w2*h2   # 分裂后面积\n",
    "        if area*2<area2:\n",
    "            return False\n",
    "        if area1>2*area2:\n",
    "            return True\n",
    "        else:\n",
    "            return False"
   ]
  },
  {
   "cell_type": "code",
   "execution_count": 7,
   "metadata": {},
   "outputs": [],
   "source": [
    "def same_contour(point1,point2):\n",
    "    x1, y1, w1, h1 = point1\n",
    "    x2, y2, w2, h2 = point2\n",
    "    endx = max(x1+w1,x2+w2)\n",
    "    startx = min(x1,x2)\n",
    "    w = w1+w2-(endx-startx)\n",
    "    endy = max(y1+h1,y2+h2)\n",
    "    starty = min(y1,y2)\n",
    "    h = h1+h2-(endy-starty)\n",
    "    if w<=0 or h<=0 or(x1>x2 and y1>y2 and w1>w2 and h1>h2):\n",
    "        return False\n",
    "    else:\n",
    "        area = w*h  # 重叠面积\n",
    "        area1 = w1*h1   # 分裂前面积\n",
    "        area2 = w2*h2   # 分裂后面积\n",
    "#         print(area, area1, area2)\n",
    "        if area >= 2/3 * min(area1, area2):\n",
    "            return True\n",
    "        else:\n",
    "            return False"
   ]
  },
  {
   "cell_type": "code",
   "execution_count": 8,
   "metadata": {},
   "outputs": [
    {
     "name": "stdout",
     "output_type": "stream",
     "text": [
      "\n",
      "Getting and resizing test images ... \n",
      "83/84 [============================>.] - ETA: 0s"
     ]
    }
   ],
   "source": [
    "test_img,test_img_sizes = read_test_data()"
   ]
  },
  {
   "cell_type": "code",
   "execution_count": 9,
   "metadata": {},
   "outputs": [
    {
     "name": "stdout",
     "output_type": "stream",
     "text": [
      "3/3 [==============================] - 5s 2s/step\n"
     ]
    }
   ],
   "source": [
    "test_mask = new_model.predict(test_img, verbose=1)"
   ]
  },
  {
   "cell_type": "code",
   "execution_count": 10,
   "metadata": {
    "scrolled": true
   },
   "outputs": [
    {
     "name": "stdout",
     "output_type": "stream",
     "text": [
      "t000.tif : 10\n",
      "t001.tif : 10\n",
      "t002.tif : 10\n",
      "t003.tif : 10\n",
      "t004.tif : 10\n",
      "t005.tif : 10\n",
      "t006.tif : 10\n",
      "t007.tif : 10\n",
      "t008.tif : 9\n",
      "t009.tif : 10\n",
      "t010.tif : 10\n",
      "t011.tif : 11\n",
      "t012.tif : 10\n",
      "t013.tif : 10\n",
      "t014.tif : 10\n",
      "t015.tif : 10\n",
      "t016.tif : 11\n",
      "t017.tif : 11\n",
      "t018.tif : 11\n",
      "t019.tif : 11\n",
      "t020.tif : 11\n",
      "t021.tif : 10\n",
      "t022.tif : 12\n",
      "t023.tif : 13\n",
      "t024.tif : 13\n",
      "t025.tif : 14\n",
      "t026.tif : 13\n",
      "t027.tif : 12\n",
      "t028.tif : 10\n",
      "t029.tif : 12\n",
      "t030.tif : 13\n",
      "t031.tif : 12\n",
      "t032.tif : 13\n",
      "t033.tif : 12\n",
      "t034.tif : 12\n",
      "t035.tif : 12\n",
      "t036.tif : 11\n",
      "t037.tif : 15\n",
      "t038.tif : 13\n",
      "t039.tif : 14\n",
      "t040.tif : 12\n",
      "t041.tif : 12\n",
      "t042.tif : 12\n",
      "t043.tif : 13\n",
      "t044.tif : 13\n",
      "t045.tif : 11\n",
      "t046.tif : 12\n",
      "t047.tif : 13\n",
      "t048.tif : 14\n",
      "t049.tif : 14\n",
      "t050.tif : 13\n",
      "t051.tif : 13\n",
      "t052.tif : 14\n",
      "t053.tif : 13\n",
      "t054.tif : 12\n",
      "t055.tif : 11\n",
      "t056.tif : 10\n",
      "t057.tif : 11\n",
      "t058.tif : 12\n",
      "t059.tif : 13\n",
      "t060.tif : 12\n",
      "t061.tif : 12\n",
      "t062.tif : 11\n",
      "t063.tif : 15\n",
      "t064.tif : 11\n",
      "t065.tif : 15\n",
      "t066.tif : 17\n",
      "t067.tif : 16\n",
      "t068.tif : 14\n",
      "t069.tif : 18\n",
      "t070.tif : 15\n",
      "t071.tif : 14\n",
      "t072.tif : 11\n",
      "t073.tif : 14\n",
      "t074.tif : 13\n",
      "t075.tif : 14\n",
      "t076.tif : 16\n",
      "t077.tif : 14\n",
      "t078.tif : 15\n",
      "t079.tif : 14\n",
      "t080.tif : 15\n",
      "t081.tif : 12\n",
      "t082.tif : 12\n",
      "t083.tif : 15\n"
     ]
    }
   ],
   "source": [
    "bound_box = []\n",
    "reserve_contours = []\n",
    "for i, id_ in enumerate(test_ids):\n",
    "    kernel_size = 19\n",
    "    img_path = TEST_PATH + id_\n",
    "    img = cv2.imread(img_path)\n",
    "    ret, thresh = cv2.threshold(test_mask[i], 0.9999, 255, cv2.THRESH_BINARY)\n",
    "#     thresh = thresh.astype(np.uint8)\n",
    "#     thresh = cv2.medianBlur(thresh, 9)\n",
    "    kernel = cv2.getStructuringElement(cv2.MORPH_RECT, (kernel_size,kernel_size))\n",
    "    thresh = cv2.morphologyEx(thresh, cv2.MORPH_ERODE, kernel)\n",
    "    kernel1 = cv2.getStructuringElement(cv2.MORPH_RECT, (kernel_size-4,kernel_size-4))\n",
    "    thresh = cv2.morphologyEx(thresh, cv2.MORPH_DILATE, kernel).astype(np.uint8)\n",
    "#     cv2.imshow(\"\", thresh)\n",
    "#     cv2.waitKey(0)\n",
    "#     cv2.destroyAllWindows()\n",
    "    thresh = thresh.astype(np.uint8)\n",
    "    # 确定背景区域\n",
    "    sure_bg = cv2.dilate(thresh,kernel,iterations=3)\n",
    "    # 寻找前景区域\n",
    "    dist_transform = cv2.distanceTransform(thresh,cv2.DIST_L2,5)\n",
    "    if i <= 13 or 43 < i <= 51:\n",
    "        k = 0.69\n",
    "    elif 13 < i <= 20 or i > 58:\n",
    "        k = 0.7\n",
    "    elif 20 < i <= 30 or 40 < i <= 43:\n",
    "        k = 0.73\n",
    "    elif 30 < i <= 36 or 58 < i <= 66:\n",
    "        k = 0.72\n",
    "    elif 36 < i <= 40:\n",
    "        k = 0.74\n",
    "    elif 51 < i <= 58:\n",
    "        k = 0.71\n",
    "    ret, sure_fg = cv2.threshold(dist_transform,k*dist_transform.max(),255,0)\n",
    "    # 找到未知区域\n",
    "    sure_fg = np.uint8(sure_fg)\n",
    "    unknown = cv2.subtract(sure_bg,sure_fg)\n",
    "    ret, markers = cv2.connectedComponents(sure_fg)\n",
    "    markers = markers+1\n",
    "    # 现在让所有的未知区域为0\n",
    "    markers[unknown==255] = 0\n",
    "    thresh = cv2.merge([thresh, thresh, thresh])\n",
    "    markers = cv2.watershed(thresh.astype(np.uint8),markers) \n",
    "    thresh[markers == -1] = [0,0,0]\n",
    "    kernel = cv2.getStructuringElement(cv2.MORPH_RECT, (9,9))\n",
    "    thresh = cv2.morphologyEx(thresh, cv2.MORPH_ERODE, kernel)\n",
    "    kernel = cv2.getStructuringElement(cv2.MORPH_RECT, (5,5))\n",
    "    thresh = cv2.morphologyEx(thresh, cv2.MORPH_DILATE, kernel)\n",
    "#     cv2.imshow(\"\", thresh)\n",
    "#     cv2.waitKey(0)\n",
    "#     cv2.destroyAllWindows()\n",
    "    thresh = resize(thresh, (512, 512, 3), mode='constant', preserve_range=True).astype(np.uint8)\n",
    "    contours, hierarchy = cv2.findContours(thresh[:,:,0], cv2.RETR_EXTERNAL, cv2.CHAIN_APPROX_NONE)\n",
    "    print(id_, \":\", len(contours))\n",
    "    for j in range(len(contours)):\n",
    "        x, y, w, h = cv2.boundingRect(contours[j])\n",
    "#         cv2.rectangle(img, (x, y), (x + w, y + h), (0, 255, 0), 1)\n",
    "#         rect = cv2.minAreaRect(contours[j])\n",
    "#         cv2.circle(img, (int(rect[0][0]), int(rect[0][1])), 2, (0, 0, 255), 2)\n",
    "    bound_box.append([])\n",
    "    reserve_contours.append(contours)\n",
    "    for j in range(len(contours)):\n",
    "        x, y, w, h = cv2.boundingRect(contours[j])\n",
    "        bound_box[i].append((x, y, w, h))\n",
    "        \n",
    "for i, id_ in enumerate(test_ids[:-1]):\n",
    "    img_path = TEST_PATH + id_\n",
    "    img = cv2.imread(img_path)\n",
    "    count = 0\n",
    "    ret, img1 = cv2.threshold(img[:,:,0], 90,255, cv2.THRESH_BINARY)\n",
    "#     cv2.imshow(\"\", img1)\n",
    "#     cv2.waitKey(0)\n",
    "#     cv2.destroyAllWindows()\n",
    "    img1 = cv2.medianBlur(img1, 5)\n",
    "    kernel = cv2.getStructuringElement(cv2.MORPH_RECT, (15,15))\n",
    "    img1 = cv2.morphologyEx(img1, cv2.MORPH_ERODE, kernel)\n",
    "    img1 = cv2.merge([img1, img1, img1])\n",
    "    img1 = resize(img1, (512, 512, 3), mode='constant', preserve_range=True).astype(np.uint8)\n",
    "    img1 = 255 - img1\n",
    "#     cv2.imshow(\"\", img1)\n",
    "#     cv2.waitKey(0)\n",
    "#     cv2.destroyAllWindows()\n",
    "    contours, hierarchy = cv2.findContours(img1[:,:,0], cv2.RETR_EXTERNAL, cv2.CHAIN_APPROX_NONE)\n",
    "    new_contours = []\n",
    "    for j in range(len(contours)):\n",
    "        x, y, w, h = cv2.boundingRect(contours[j])\n",
    "        if w*h < 3000:\n",
    "            continue\n",
    "        else:\n",
    "            new_contours.append(contours[j])\n",
    "#     print(id_, len(new_contours))\n",
    "#     if new_contours:\n",
    "#         for contour in new_contours:\n",
    "#             print(cv2.boundingRect(contour))\n",
    "    for j in range(len(bound_box[i])):\n",
    "        flag = 0\n",
    "        x, y, w, h = bound_box[i][j]\n",
    "        for contour in new_contours:\n",
    "            if same_contour((x,y,w,h), cv2.boundingRect(contour)):\n",
    "                rect = cv2.minAreaRect(reserve_contours[i][j])\n",
    "                cv2.circle(img, (int(rect[0][0]), int(rect[0][1])), 2, (0, 0, 255), 2)\n",
    "                for q in range(len(bound_box[i+1])):\n",
    "                    n_x, n_y, n_w, n_h = bound_box[i+1][q]\n",
    "                    if overlap((x, y, w, h),(n_x, n_y, n_w, n_h)):\n",
    "                        cv2.rectangle(img, (x, y), (x + w, y + h), (0, 0, 255), 1)\n",
    "                        count = count+1\n",
    "                        flag = 1\n",
    "        if flag == 0:\n",
    "            cv2.rectangle(img, (x, y), (x + w, y + h), (0, 255, 0), 1)\n",
    "    \n",
    "    RES_PATH =  \"DIC-C2DH-HeLa1/Sequence 1 mask/\"\n",
    "    if not os.path.exists(RES_PATH):\n",
    "        os.mkdir(RES_PATH)\n",
    "    new_id = RES_PATH + \"{}_res.tif\".format(id_[:-4])\n",
    "    cv2.imwrite(new_id, img)\n",
    "#     print(img.shape)\n",
    "#     cv2.imshow(\"\", img)\n",
    "#     cv2.waitKey(0)\n",
    "#     cv2.destroyAllWindows()"
   ]
  },
  {
   "cell_type": "code",
   "execution_count": null,
   "metadata": {},
   "outputs": [],
   "source": [
    "一共召回的:1028\n",
    "召回中正确的:943\n",
    "人工判断正确的:1057"
   ]
  },
  {
   "cell_type": "code",
   "execution_count": 318,
   "metadata": {},
   "outputs": [
    {
     "name": "stdout",
     "output_type": "stream",
     "text": [
      "0.8921475875118259 0.9173151750972762\n"
     ]
    }
   ],
   "source": [
    "recall = 943/1057\n",
    "accuracy = 943/1028\n",
    "print(recall, accuracy)"
   ]
  },
  {
   "cell_type": "code",
   "execution_count": 317,
   "metadata": {},
   "outputs": [
    {
     "data": {
      "text/plain": [
       "943"
      ]
     },
     "execution_count": 317,
     "metadata": {},
     "output_type": "execute_result"
    }
   ],
   "source": [
    "821+12+11+14+11+13+12+14+12+12+11"
   ]
  }
 ],
 "metadata": {
  "kernelspec": {
   "display_name": "Python 3",
   "language": "python",
   "name": "python3"
  },
  "language_info": {
   "codemirror_mode": {
    "name": "ipython",
    "version": 3
   },
   "file_extension": ".py",
   "mimetype": "text/x-python",
   "name": "python",
   "nbconvert_exporter": "python",
   "pygments_lexer": "ipython3",
   "version": "3.5.6"
  },
  "pycharm": {
   "stem_cell": {
    "cell_type": "raw",
    "source": [],
    "metadata": {
     "collapsed": false
    }
   }
  }
 },
 "nbformat": 4,
 "nbformat_minor": 4
}